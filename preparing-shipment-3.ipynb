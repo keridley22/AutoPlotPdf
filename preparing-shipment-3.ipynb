{
 "cells": [
  {
   "cell_type": "code",
   "execution_count": 22,
   "metadata": {},
   "outputs": [
    {
     "name": "stdout",
     "output_type": "stream",
     "text": [
      "Index(['Sample list (excluding extra samples)', 'Comments',\n",
      "       'Estradiol (pg/mL)', 'Progesterone (pg/mL)', 'Unnamed: 4',\n",
      "       'Estradiol blood (pcg/mL)', 'Progesterone blood (ng/mL)', 'Unnamed: 7',\n",
      "       'Unnamed: 8', 'Unnamed: 9', 'Unnamed: 10', 'Unnamed: 11',\n",
      "       'Unnamed: 12'],\n",
      "      dtype='object')\n",
      "Index(['Sample list (excluding extra samples)', 'Comments', 'Unnamed: 4',\n",
      "       'Estradiol (pg/mL)', 'Progesterone (pg/mL)', 'Unnamed: 7', 'Unnamed: 8',\n",
      "       'Unnamed: 9', 'Unnamed: 10', 'Unnamed: 11', 'Unnamed: 12', 'Type'],\n",
      "      dtype='object')\n",
      "     level_0  index                   Samples Comments Estradiol (pg/mL)  \\\n",
      "0          0      0   S1F A3 02/05/2022 08:30      NaN              3.04   \n",
      "1          1      1   S1C A3 02/05/2022 19:52      NaN              3.68   \n",
      "2          2      2   S2F A3 09/05/2022 08:45      NaN              4.26   \n",
      "3          3      3   S2C A3 09/05/2022 12:20      NaN              5.43   \n",
      "4          4      4   S3F A3 14/05/2022 07:15      NaN             11.26   \n",
      "..       ...    ...                       ...      ...               ...   \n",
      "324      104    211  S2C A88 07/05/2022 08:35      NaN               977   \n",
      "325      105    213  S3C A88 11/05/2022 18:55      NaN              2990   \n",
      "326      106    215  S1C A90 17/05/2022 13:00      NaN               743   \n",
      "327      107    217  S2C A90 20/05/2022 11:45      NaN              2092   \n",
      "328      108    219  S3C A90 23/05/2022 12:25      NaN              2515   \n",
      "\n",
      "    Progesterone (pg/mL)    Type  Shipment  \n",
      "0                 25.985  Saliva         3  \n",
      "1                 93.927  Saliva         3  \n",
      "2                 29.016  Saliva         3  \n",
      "3                 31.564  Saliva         3  \n",
      "4                 45.924  Saliva         3  \n",
      "..                   ...     ...       ...  \n",
      "324                 0.38   Blood         3  \n",
      "325                 0.36   Blood         3  \n",
      "326                  0.4   Blood         3  \n",
      "327                 0.98   Blood         3  \n",
      "328                 1.38   Blood         3  \n",
      "\n",
      "[329 rows x 8 columns]\n"
     ]
    }
   ],
   "source": [
    "from dataclasses import dataclass\n",
    "import pandas as pd\n",
    "import numpy as np\n",
    "import os\n",
    "import math\n",
    "import scipy\n",
    "import matplotlib.pyplot as plt\n",
    "import re\n",
    "import seaborn as sns\n",
    "import statsmodels.api as sm\n",
    "import scipy.stats as stats\n",
    "\n",
    "data=pd.read_csv(\"C:/Users/KatherineRidley/Mint Diagnostics Ltd/Mint Drive - Documents/Data/IVI_serumvsaliva_KR/IVI results July (version 1).csv\")\n",
    "print(data.columns)\n",
    "data.loc[(data['Progesterone blood (ng/mL)'].str.contains('>')) | \n",
    "(data['Progesterone blood (ng/mL)'].str.contains('<'))| \n",
    "(data['Progesterone blood (ng/mL)'].str.contains('NR')), 'Progesterone blood (ng/mL)'] = np.nan\n",
    "data.loc[(data['Estradiol blood (pcg/mL)'].str.contains('>')) | (data['Estradiol blood (pcg/mL)'].str.contains('<')) | \n",
    "(data['Estradiol blood (pcg/mL)'].str.contains('NR')), 'Estradiol blood (pcg/mL)'] = np.nan\n",
    "data.loc[(data['Progesterone (pg/mL)'].str.contains('>')) | \n",
    "(data['Progesterone (pg/mL)'].str.contains('<'))| \n",
    "(data['Progesterone (pg/mL)'].str.contains('NR')), 'Progesterone (pg/mL)'] = np.nan\n",
    "data.loc[(data['Estradiol (pg/mL)'].str.contains('>')) | (data['Estradiol (pg/mL)'].str.contains('<')) | \n",
    "(data['Estradiol (pg/mL)'].str.contains('NR')), 'Estradiol (pg/mL)'] = np.nan\n",
    "#print(data.head())\n",
    "\n",
    "#columns: Samples, Estradiol, Progesterone, Comments, Shipment, Patient ID, Group, Date, Type, Sample, Time\n",
    "\n",
    "#new_dict={'Samples':[],'Estradiol (pg/mL)':[],'Progesterone (pg/mL)':[],'Comments':[],'Shipment':[],'Patient ID':[],'Group':[],'Date':[],'Type':[],'Sample':[],'Time':[]}\n",
    "\n",
    "data_s=data.copy()\n",
    "data_b=data.copy()\n",
    "\n",
    "data_s['Type']='Saliva'\n",
    "data_b['Type']='Blood'\n",
    "data_b.drop(['Progesterone (pg/mL)', 'Estradiol (pg/mL)'], axis=1, inplace=True)\n",
    "data_s.drop(['Progesterone blood (ng/mL)', 'Estradiol blood (pcg/mL)'], axis=1, inplace=True)\n",
    "\n",
    "data_b.rename({'Progesterone blood (ng/mL)':'Progesterone (pg/mL)', 'Estradiol blood (pcg/mL)':'Estradiol (pg/mL)'}, axis='columns', inplace=True)\n",
    "data_b=data_b.drop(data_b[(data_b['Type']=='Blood') & (data_b['Progesterone (pg/mL)']=='-')].index)\n",
    "#data_b['Progesterone (pg/mL)']=data_b['Progesterone (pg/mL)'].astype(float)*1000\n",
    "data_b.loc[data_b['Progesterone (pg/mL)']=='NR', 'Progesterone (pg/mL)'] = np.nan\n",
    "data_s.loc[data_s['Progesterone (pg/mL)']=='NR', 'Progesterone (pg/mL)'] = np.nan\n",
    "data_s.reset_index()\n",
    "data_b.reset_index()\n",
    "print(data_b.columns)\n",
    "\n",
    "\n",
    "data= pd.concat([data_s.reset_index(),data_b.reset_index()], axis=0)\n",
    "data=data.loc[:,~data.columns.str.contains(\"Unnamed\")]\n",
    "data.rename({'Sample list (excluding extra samples)':'Samples'}, axis='columns', inplace=True)\n",
    "data['Shipment']=3\n",
    "print(data.reset_index())\n",
    "\n",
    "\n",
    "\n",
    "\n"
   ]
  },
  {
   "cell_type": "code",
   "execution_count": 45,
   "metadata": {},
   "outputs": [],
   "source": []
  },
  {
   "cell_type": "code",
   "execution_count": 23,
   "metadata": {},
   "outputs": [
    {
     "name": "stdout",
     "output_type": "stream",
     "text": [
      "     index                   Samples Comments Estradiol (pg/mL)  \\\n",
      "0        0   S1F A3 02/05/2022 08:30      NaN              3.04   \n",
      "1        1   S1C A3 02/05/2022 19:52      NaN              3.68   \n",
      "2        2   S2F A3 09/05/2022 08:45      NaN              4.26   \n",
      "3        3   S2C A3 09/05/2022 12:20      NaN              5.43   \n",
      "4        4   S3F A3 14/05/2022 07:15      NaN             11.26   \n",
      "..     ...                       ...      ...               ...   \n",
      "104    211  S2C A88 07/05/2022 08:35      NaN               977   \n",
      "105    213  S3C A88 11/05/2022 18:55      NaN              2990   \n",
      "106    215  S1C A90 17/05/2022 13:00      NaN               743   \n",
      "107    217  S2C A90 20/05/2022 11:45      NaN              2092   \n",
      "108    219  S3C A90 23/05/2022 12:25      NaN              2515   \n",
      "\n",
      "    Progesterone (pg/mL)    Type  Shipment Sample Group Patient ID  \\\n",
      "0                 25.985  Saliva         3    S1F     A          3   \n",
      "1                 93.927  Saliva         3    S1C     A          3   \n",
      "2                 29.016  Saliva         3    S2F     A          3   \n",
      "3                 31.564  Saliva         3    S2C     A          3   \n",
      "4                 45.924  Saliva         3    S3F     A          3   \n",
      "..                   ...     ...       ...    ...   ...        ...   \n",
      "104                 0.38   Blood         3    S2C     A         88   \n",
      "105                 0.36   Blood         3    S3C     A         88   \n",
      "106                  0.4   Blood         3    S1C     A         90   \n",
      "107                 0.98   Blood         3    S2C     A         90   \n",
      "108                 1.38   Blood         3    S3C     A         90   \n",
      "\n",
      "           Date   Time  \n",
      "0    02/05/2022  08:30  \n",
      "1    02/05/2022  19:52  \n",
      "2    09/05/2022  08:45  \n",
      "3    09/05/2022  12:20  \n",
      "4    14/05/2022  07:15  \n",
      "..          ...    ...  \n",
      "104  07/05/2022  08:35  \n",
      "105  11/05/2022  18:55  \n",
      "106  17/05/2022  13:00  \n",
      "107  20/05/2022  11:45  \n",
      "108  23/05/2022  12:25  \n",
      "\n",
      "[329 rows x 12 columns]\n"
     ]
    }
   ],
   "source": [
    "#regex barcode\n",
    "                       \n",
    "data['Sample'] = data['Samples'].str.split(' ', expand=True)[0]\n",
    "#data.loc['Patient ID'] = data['Samples'].str.split(' ', expand=True)[1]\n",
    "data['Group'] = data['Samples'].str.extract('\\s(\\D{1})(\\d*)', expand=True)[0]\n",
    "data['Patient ID'] = data['Samples'].str.extract('\\s(\\D{1})(\\d*)', expand=True)[1] \n",
    "data['Date'] = data['Samples'].str.split(' ', expand=True)[2]\n",
    "data['Time'] = data['Samples'].str.split(' ', expand=True)[3]\n",
    "\n",
    "print(data)"
   ]
  },
  {
   "cell_type": "code",
   "execution_count": 24,
   "metadata": {},
   "outputs": [],
   "source": [
    "#concat 1 and 2 and 3\n",
    "#data12 results collated \n",
    "data12=pd.read_csv(\"C:/Users/KatherineRidley/Mint Diagnostics Ltd/Mint Drive - Documents/Data/IVI_serumvsaliva_KR/Results_1_2_collated_KR.csv\")\n",
    "data_ALL= pd.concat([data12.reset_index(),data.reset_index()], axis=0)\n",
    "#data_ALL['Patient ID']=data_ALL['Patient ID'].astype(int)\n",
    "\n",
    "#print(data_ALL[data_ALL['Patient ID'].isna()])\n",
    "\n",
    "data_ALL.to_csv(\"C:/Users/KatherineRidley/Mint Diagnostics Ltd/Mint Drive - Documents/Data/IVI_serumvsaliva_KR/Results_1_2_3_collated_KR.csv\", index=False)\n",
    "#data_ALL\n"
   ]
  },
  {
   "cell_type": "code",
   "execution_count": 10,
   "metadata": {},
   "outputs": [
    {
     "name": "stdout",
     "output_type": "stream",
     "text": [
      "1\n"
     ]
    }
   ],
   "source": []
  },
  {
   "cell_type": "code",
   "execution_count": null,
   "metadata": {},
   "outputs": [],
   "source": []
  }
 ],
 "metadata": {
  "interpreter": {
   "hash": "fe6768c439df95c45b1ef781494ca15f387e2cda4440aa40b48ca20f1d315678"
  },
  "kernelspec": {
   "display_name": "Python 3.10.4 64-bit",
   "language": "python",
   "name": "python3"
  },
  "language_info": {
   "codemirror_mode": {
    "name": "ipython",
    "version": 3
   },
   "file_extension": ".py",
   "mimetype": "text/x-python",
   "name": "python",
   "nbconvert_exporter": "python",
   "pygments_lexer": "ipython3",
   "version": "3.10.4"
  },
  "orig_nbformat": 4
 },
 "nbformat": 4,
 "nbformat_minor": 2
}
